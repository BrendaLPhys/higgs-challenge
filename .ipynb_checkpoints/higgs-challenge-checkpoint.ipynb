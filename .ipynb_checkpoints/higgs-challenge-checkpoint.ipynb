{
 "cells": [
  {
   "cell_type": "markdown",
   "id": "6093e36b-38a4-42e0-bf16-c4cf381b6299",
   "metadata": {},
   "source": [
    "# Higgs Boson Machine Learning Challenge\n",
    "\n",
    "Discovery of the long awaited Higgs boson was announced July 4, 2012 and confirmed six months later. 2013 saw a number of prestigious awards, including a Nobel prize. But for physicists, the discovery of a new particle means the beginning of a long and difficult quest to measure its characteristics and determine if it fits the current model of nature.\n",
    "\n",
    "A key property of any particle is how often it decays into other particles. ATLAS is a particle physics experiment taking place at the Large Hadron Collider at CERN that searches for new particles and processes using head-on collisions of protons of extraordinarily high energy. The ATLAS experiment has recently observed a signal of the Higgs boson decaying into two tau particles, but this decay is a small signal buried in background noise. \n",
    "\n",
    "The goal of the Higgs Boson Machine Learning Challenge is to explore the potential of advanced machine learning methods to improve the discovery significance of the experiment. No knowledge of particle physics is required. Using simulated data with features characterizing events detected by ATLAS, your task is to classify events into \"tau tau decay of a Higgs boson\" versus \"background.\" \n",
    "\n",
    "The winning method may eventually be applied to real data and the winners may be invited to CERN to discuss their results with high energy physicists.\n",
    "\n",
    "## File descriptions\n",
    "\n",
    "- training.csv - Training set of 250000 events, with an ID column, 30 feature columns, a weight column and a label column.\n",
    "- test.csv - Test set of 550000 events with an ID column and 30 feature columns.\n",
    "- random_submission - Sample submission file in the correct format. File format is described on the Evaluation page.\n",
    "- HiggsBosonCompetition_AMSMetric - Python script to calculate the competition evaluation metric.\n",
    "\n",
    "For detailed information on the semantics of the features, labels, and weights, see the technical documentation from the LAL website on the task.\n",
    "\n",
    "Some details to get started:\n",
    "\n",
    "- all variables are floating point, except PRI_jet_num which is integer\n",
    "- variables prefixed with PRI (for PRImitives) are “raw” quantities about the bunch collision as measured by the detector.\n",
    "- variables prefixed with DER (for DERived) are quantities computed from the primitive features, which were selected by  the physicists of ATLAS\n",
    "- it can happen that for some entries some variables are meaningless or cannot be computed; in this case, their value is −999.0, which is outside the normal range of all variables"
   ]
  },
  {
   "cell_type": "code",
   "execution_count": null,
   "id": "5c956e95-3d11-460b-b4d3-37bb2b239788",
   "metadata": {},
   "outputs": [],
   "source": []
  }
 ],
 "metadata": {
  "kernelspec": {
   "display_name": "Python 3",
   "language": "python",
   "name": "python3"
  },
  "language_info": {
   "codemirror_mode": {
    "name": "ipython",
    "version": 3
   },
   "file_extension": ".py",
   "mimetype": "text/x-python",
   "name": "python",
   "nbconvert_exporter": "python",
   "pygments_lexer": "ipython3",
   "version": "3.6.13"
  }
 },
 "nbformat": 4,
 "nbformat_minor": 5
}
